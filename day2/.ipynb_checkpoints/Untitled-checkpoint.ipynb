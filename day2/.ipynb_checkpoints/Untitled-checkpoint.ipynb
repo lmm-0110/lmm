{
 "cells": [
  {
   "cell_type": "code",
   "execution_count": null,
   "id": "4f5474af-c0d2-4a35-92ee-729e4c4ab9f8",
   "metadata": {},
   "outputs": [],
   "source": [
    "import numpy"
   ]
  }
 ],
 "metadata": {
  "kernelspec": {
   "display_name": "Python 3 (ipykernel)",
   "language": "python",
   "name": "python3"
  },
  "language_info": {
   "codemirror_mode": {
    "name": "ipython",
    "version": 3
   },
   "file_extension": ".py",
   "mimetype": "text/x-python",
   "name": "python",
   "nbconvert_exporter": "python",
   "pygments_lexer": "ipython3",
   "version": "3.12.0"
  }
 },
 "nbformat": 4,
 "nbformat_minor": 5
}
