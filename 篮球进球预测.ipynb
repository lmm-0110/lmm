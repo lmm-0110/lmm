{
 "cells": [
  {
   "cell_type": "code",
   "execution_count": 1,
   "id": "ad70dfcc-ba87-4e60-aeac-34de00a434a4",
   "metadata": {},
   "outputs": [
    {
     "name": "stdout",
     "output_type": "stream",
     "text": [
      "Accuracy is: 0.692\n",
      "['made']\n"
     ]
    },
    {
     "name": "stderr",
     "output_type": "stream",
     "text": [
      "C:\\Users\\86158\\AppData\\Local\\Programs\\Python\\Python312\\Lib\\site-packages\\sklearn\\base.py:493: UserWarning: X does not have valid feature names, but KNeighborsClassifier was fitted with feature names\n",
      "  warnings.warn(\n"
     ]
    }
   ],
   "source": [
    "# 读取相应的库\n",
    "from sklearn import datasets  #使用 sklearn  自带数据\n",
    "from sklearn.model_selection import train_test_split   \n",
    "from sklearn.neighbors import KNeighborsClassifier\n",
    "import numpy as np\n",
    "import pandas as pd\n",
    "def createDataSet():\n",
    "    df = pd.read_csv(\"last.csv\")  #创建DataFrame\n",
    "    \n",
    "    X = df[['SHOT_DIST（击球距离）','CLOSE_DEF_DIST（最近的守球员的距离）']]\n",
    "    y = df['SHOT_RESULT（击球结果）']\n",
    "    return X, y\n",
    "# 创建数据集\n",
    "X, y = createDataSet()\n",
    "# 把数据分成训练数据和测试数据\n",
    "X_train, X_test, y_train, y_test = train_test_split(X, y,random_state=17)\n",
    "# 构建KNN模型， K值为3、 并做训练\n",
    "clf = KNeighborsClassifier(n_neighbors=13)   #构建KNN  试试调参 K的不同取值后的准确率\n",
    "clf.fit(X_train, y_train)                   #训练模型\n",
    "# 计算准确率\n",
    "from sklearn.metrics import accuracy_score\n",
    "correct = np.count_nonzero((clf.predict(X_test)==y_test)==True)\n",
    "#accuracy_score(y_test, clf.predict(X_test))\n",
    "print (\"Accuracy is: %.3f\" %(correct/len(X_test)))\n",
    "test = np.array([5.1,2.3]).reshape(1,-1)\n",
    "predict = clf.predict(test)\n",
    "print(predict)    "
   ]
  },
  {
   "cell_type": "code",
   "execution_count": 2,
   "id": "7ef60b7a-9a68-44a2-a40a-3fa72f6fb6b3",
   "metadata": {},
   "outputs": [
    {
     "name": "stdout",
     "output_type": "stream",
     "text": [
      "Accuracy is: 0.731\n",
      "['missed']\n",
      "['missed']\n"
     ]
    },
    {
     "name": "stderr",
     "output_type": "stream",
     "text": [
      "C:\\Users\\86158\\AppData\\Local\\Programs\\Python\\Python312\\Lib\\site-packages\\sklearn\\base.py:493: UserWarning: X does not have valid feature names, but KNeighborsClassifier was fitted with feature names\n",
      "  warnings.warn(\n",
      "C:\\Users\\86158\\AppData\\Local\\Programs\\Python\\Python312\\Lib\\site-packages\\sklearn\\base.py:493: UserWarning: X does not have valid feature names, but KNeighborsClassifier was fitted with feature names\n",
      "  warnings.warn(\n"
     ]
    }
   ],
   "source": [
    "# 读取相应的库\n",
    "from sklearn import datasets  #使用 sklearn  自带数据\n",
    "from sklearn.model_selection import train_test_split   \n",
    "from sklearn.neighbors import KNeighborsClassifier\n",
    "import numpy as np\n",
    "import pandas as pd\n",
    "def createDataSet():\n",
    "    df = pd.read_csv(\"last.csv\")  #创建DataFrame\n",
    "    \n",
    "    X = df[['TOUCH_TIME（触球时间）','SHOT_DIST（击球距离）','CLOSE_DEF_DIST（最近的守球员的距离）']]\n",
    "    y = df['SHOT_RESULT（击球结果）']\n",
    "    return X, y\n",
    "# 创建数据集\n",
    "X, y = createDataSet()\n",
    "# 把数据分成训练数据和测试数据\n",
    "X_train, X_test, y_train, y_test = train_test_split(X, y,random_state=17)\n",
    "# 构建KNN模型， K值为3、 并做训练\n",
    "clf = KNeighborsClassifier(n_neighbors=31)   #构建KNN  试试调参 K的不同取值后的准确率\n",
    "clf.fit(X_train, y_train)                   #训练模型\n",
    "# 计算准确率\n",
    "from sklearn.metrics import accuracy_score\n",
    "correct = np.count_nonzero((clf.predict(X_test)==y_test)==True)\n",
    "#accuracy_score(y_test, clf.predict(X_test))\n",
    "print (\"Accuracy is: %.3f\" %(correct/len(X_test)))\n",
    "test = np.array([4.7,5.1,2.3]).reshape(1,-1)\n",
    "test2 = np.array([4.5,18.3,3]).reshape(1,-1)\n",
    "predict = clf.predict(test)   #与实际不符\n",
    "predict2 = clf.predict(test2)  #与实际相同\n",
    "print(predict)    \n",
    "print(predict2)"
   ]
  },
  {
   "cell_type": "code",
   "execution_count": 3,
   "id": "350759ac-a01e-408c-9b6d-d5440ef0f312",
   "metadata": {},
   "outputs": [
    {
     "name": "stdout",
     "output_type": "stream",
     "text": [
      "Accuracy is: 0.769\n",
      "['made']\n"
     ]
    },
    {
     "name": "stderr",
     "output_type": "stream",
     "text": [
      "C:\\Users\\86158\\AppData\\Local\\Programs\\Python\\Python312\\Lib\\site-packages\\sklearn\\base.py:493: UserWarning: X does not have valid feature names, but KNeighborsClassifier was fitted with feature names\n",
      "  warnings.warn(\n"
     ]
    }
   ],
   "source": [
    "# 读取相应的库\n",
    "from sklearn import datasets  #使用 sklearn  自带数据\n",
    "from sklearn.model_selection import train_test_split   \n",
    "from sklearn.neighbors import KNeighborsClassifier\n",
    "import numpy as np\n",
    "import pandas as pd\n",
    "def createDataSet():\n",
    "    df = pd.read_csv(\"last.csv\")  #创建DataFrame\n",
    "    \n",
    "    X = df[['TOUCH_TIME（触球时间）','SHOT_DIST（击球距离）','CLOSE_DEF_DIST（最近的守球员的距离）']]\n",
    "    y = df['SHOT_RESULT（击球结果）']\n",
    "    return X, y\n",
    "# 创建数据集\n",
    "X, y = createDataSet()\n",
    "# 把数据分成训练数据和测试数据\n",
    "X_train, X_test, y_train, y_test = train_test_split(X, y,random_state=73)\n",
    "# 构建KNN模型， K值为3、 并做训练\n",
    "clf = KNeighborsClassifier(n_neighbors=11)   #构建KNN  试试调参 K的不同取值后的准确率\n",
    "clf.fit(X_train, y_train)                   #训练模型\n",
    "# 计算准确率\n",
    "from sklearn.metrics import accuracy_score\n",
    "correct = np.count_nonzero((clf.predict(X_test)==y_test)==True)\n",
    "#accuracy_score(y_test, clf.predict(X_test))\n",
    "print (\"Accuracy is: %.3f\" %(correct/len(X_test)))\n",
    "test = np.array([4.1,5.7,2.3]).reshape(1,-1)\n",
    "predict = clf.predict(test)\n",
    "print(predict)  "
   ]
  },
  {
   "cell_type": "code",
   "execution_count": 4,
   "id": "45852a6f-e5f0-4c6a-aa8b-99d7426e6da3",
   "metadata": {},
   "outputs": [
    {
     "name": "stdout",
     "output_type": "stream",
     "text": [
      "Accuracy is: 0.808\n",
      "['made']\n"
     ]
    },
    {
     "name": "stderr",
     "output_type": "stream",
     "text": [
      "C:\\Users\\86158\\AppData\\Local\\Programs\\Python\\Python312\\Lib\\site-packages\\sklearn\\base.py:493: UserWarning: X does not have valid feature names, but KNeighborsClassifier was fitted with feature names\n",
      "  warnings.warn(\n"
     ]
    }
   ],
   "source": [
    "# 读取相应的库\n",
    "from sklearn import datasets  #使用 sklearn  自带数据\n",
    "from sklearn.model_selection import train_test_split   \n",
    "from sklearn.neighbors import KNeighborsClassifier\n",
    "import numpy as np\n",
    "import pandas as pd\n",
    "def createDataSet():\n",
    "    df = pd.read_csv(\"last.csv\")  #创建DataFrame\n",
    "    \n",
    "    X = df[['TOUCH_TIME（触球时间）','SHOT_DIST（击球距离）','CLOSE_DEF_DIST（最近的守球员的距离）']]\n",
    "    y = df['SHOT_RESULT（击球结果）']\n",
    "    return X, y\n",
    "# 创建数据集\n",
    "X, y = createDataSet()\n",
    "# 把数据分成训练数据和测试数据\n",
    "X_train, X_test, y_train, y_test = train_test_split(X, y,random_state=31)\n",
    "# 构建KNN模型， K值为3、 并做训练\n",
    "clf = KNeighborsClassifier(n_neighbors=21)   #构建KNN  试试调参 K的不同取值后的准确率\n",
    "clf.fit(X_train, y_train)                   #训练模型\n",
    "# 计算准确率\n",
    "from sklearn.metrics import accuracy_score\n",
    "correct = np.count_nonzero((clf.predict(X_test)==y_test)==True)\n",
    "#accuracy_score(y_test, clf.predict(X_test))\n",
    "print (\"Accuracy is: %.3f\" %(correct/len(X_test)))\n",
    "test = np.array([4.1,5.7,2.3]).reshape(1,-1)\n",
    "predict = clf.predict(test)\n",
    "print(predict)  "
   ]
  },
  {
   "cell_type": "code",
   "execution_count": 5,
   "id": "37606fc3-a13e-4461-95e1-8981c77b9852",
   "metadata": {},
   "outputs": [
    {
     "name": "stdout",
     "output_type": "stream",
     "text": [
      "Accuracy is: 0.846\n",
      "预测：TOUCH_TIME（触球时间）4.1,SHOT_DIST（击球距离）5.7,CLOSE_DEF_DIST（最近的守球员的距离）2.3   \n",
      "SHOT_RESULT（击球结果）: ['made']\n"
     ]
    },
    {
     "name": "stderr",
     "output_type": "stream",
     "text": [
      "C:\\Users\\86158\\AppData\\Local\\Programs\\Python\\Python312\\Lib\\site-packages\\sklearn\\base.py:493: UserWarning: X does not have valid feature names, but KNeighborsClassifier was fitted with feature names\n",
      "  warnings.warn(\n"
     ]
    }
   ],
   "source": [
    "# 读取相应的库\n",
    "from sklearn import datasets  #使用 sklearn  自带数据\n",
    "from sklearn.model_selection import train_test_split   \n",
    "from sklearn.neighbors import KNeighborsClassifier\n",
    "import numpy as np\n",
    "import pandas as pd\n",
    "def createDataSet():\n",
    "    df = pd.read_csv(\"last.csv\")  #创建DataFrame\n",
    "    \n",
    "    X = df[['TOUCH_TIME（触球时间）','SHOT_DIST（击球距离）','CLOSE_DEF_DIST（最近的守球员的距离）']]\n",
    "    y = df['SHOT_RESULT（击球结果）']\n",
    "    return X, y\n",
    "# 创建数据集\n",
    "X, y = createDataSet()\n",
    "# 把数据分成训练数据和测试数据\n",
    "X_train, X_test, y_train, y_test = train_test_split(X, y,random_state=110)   #73,38,75,110,124,125\n",
    "# 构建KNN模型， K值为3、 并做训练\n",
    "clf = KNeighborsClassifier(n_neighbors=15)   #构建KNN  试试调参 K的不同取值后的准确\n",
    "clf.fit(X_train, y_train)                   #训练模型\n",
    "# 计算准确率\n",
    "from sklearn.metrics import accuracy_score\n",
    "correct = np.count_nonzero((clf.predict(X_test)==y_test)==True)\n",
    "#accuracy_score(y_test, clf.predict(X_test))\n",
    "print (\"Accuracy is: %.3f\" %(correct/len(X_test)))\n",
    "test = np.array([4.1,5.7,2.3]).reshape(1,-1)\n",
    "predict = clf.predict(test)\n",
    "print('预测：TOUCH_TIME（触球时间）4.1,SHOT_DIST（击球距离）5.7,CLOSE_DEF_DIST（最近的守球员的距离）2.3   \\nSHOT_RESULT（击球结果）:',predict)  "
   ]
  },
  {
   "cell_type": "code",
   "execution_count": null,
   "id": "b515f8ed-5540-47b7-beb9-d2fb264a4491",
   "metadata": {},
   "outputs": [],
   "source": []
  }
 ],
 "metadata": {
  "kernelspec": {
   "display_name": "Python 3 (ipykernel)",
   "language": "python",
   "name": "python3"
  },
  "language_info": {
   "codemirror_mode": {
    "name": "ipython",
    "version": 3
   },
   "file_extension": ".py",
   "mimetype": "text/x-python",
   "name": "python",
   "nbconvert_exporter": "python",
   "pygments_lexer": "ipython3",
   "version": "3.12.0"
  }
 },
 "nbformat": 4,
 "nbformat_minor": 5
}
